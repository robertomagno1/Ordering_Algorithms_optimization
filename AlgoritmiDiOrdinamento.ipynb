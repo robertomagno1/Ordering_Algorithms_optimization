{
 "cells": [
  {
   "cell_type": "code",
   "execution_count": 1,
   "metadata": {},
   "outputs": [],
   "source": [
    "import time "
   ]
  },
  {
   "cell_type": "markdown",
   "metadata": {},
   "source": [
    "funzione di swap "
   ]
  },
  {
   "cell_type": "code",
   "execution_count": 2,
   "metadata": {},
   "outputs": [],
   "source": [
    "def swap(l,i,j):\n",
    "    temp = l[i]\n",
    "    l[i] = l[j]\n",
    "    l[j] = temp"
   ]
  },
  {
   "cell_type": "markdown",
   "metadata": {},
   "source": [
    "selection sort ::"
   ]
  },
  {
   "cell_type": "code",
   "execution_count": 3,
   "metadata": {},
   "outputs": [],
   "source": [
    "def selection_sort(l):\n",
    "    print('running selection sort ....')\n",
    "    for i in range(len(l)):\n",
    "        min_index = i\n",
    "        for j in range(i+1, len(l)):\n",
    "            if l[min_index]>l[j]:\n",
    "                min_index = j\n",
    "        swap(l,i, min_index)\n",
    "        print(f'step{i+1} partially ordered list {l}')\n",
    "\n",
    "\n",
    "def selection_sort1(l):\n",
    "    for i in range(len(l)):\n",
    "        min_index = i\n",
    "        for j in range(i+1, len(l)):\n",
    "            if (l[min_index]>l[j]):\n",
    "                min_index = j\n",
    "        swap(l,i,min_index)\n",
    "\n",
    "l = []"
   ]
  },
  {
   "cell_type": "code",
   "execution_count": 4,
   "metadata": {},
   "outputs": [
    {
     "name": "stdout",
     "output_type": "stream",
     "text": [
      "[1, 2, 4, 7, 8, 10, 12, 13]\n"
     ]
    }
   ],
   "source": [
    "my_list=[10, 8, 13, 4, 1, 12, 7, 2]\n",
    "selection_sort1(my_list)\n",
    "print(my_list)"
   ]
  },
  {
   "cell_type": "markdown",
   "metadata": {},
   "source": [
    "insertion sort ::"
   ]
  },
  {
   "cell_type": "code",
   "execution_count": 5,
   "metadata": {},
   "outputs": [
    {
     "name": "stdout",
     "output_type": "stream",
     "text": [
      "[1, 2, 4, 7, 8, 10, 12, 13]\n"
     ]
    }
   ],
   "source": [
    "def insertion_sort(l):\n",
    "    print(\"Running Insertion Sort...\")\n",
    "    for i in range(1, len(l)):\n",
    "        value = l[i]  # value of the current element to be ordered\n",
    "        j = i - 1  # index of the predecessor of the i-th element\n",
    "        while j >= 0 and value < l[j]:\n",
    "            l[j + 1] = l[j]\n",
    "            j = j - 1\n",
    "        l[j + 1] = value\n",
    "        print(\"Step\", i, \"- Partially ordered list: \", l)\n",
    "        \n",
    "print(my_list)\n",
    "#insertion_sort(my_list)"
   ]
  },
  {
   "cell_type": "markdown",
   "metadata": {},
   "source": [
    "bubble sort::\n"
   ]
  },
  {
   "cell_type": "code",
   "execution_count": 22,
   "metadata": {},
   "outputs": [
    {
     "name": "stdout",
     "output_type": "stream",
     "text": [
      "Running Bubble Sort...\n",
      "Step 1 - Partially ordered list:  [8, 10, 4, 1, 12, 7, 2, 13]\n",
      "Step 2 - Partially ordered list:  [8, 4, 1, 10, 7, 2, 12, 13]\n",
      "Step 3 - Partially ordered list:  [4, 1, 8, 7, 2, 10, 12, 13]\n",
      "Step 4 - Partially ordered list:  [1, 4, 7, 2, 8, 10, 12, 13]\n",
      "Step 5 - Partially ordered list:  [1, 4, 2, 7, 8, 10, 12, 13]\n",
      "Step 6 - Partially ordered list:  [1, 2, 4, 7, 8, 10, 12, 13]\n",
      "Step 7 - Partially ordered list:  [1, 2, 4, 7, 8, 10, 12, 13]\n",
      "Step 8 - Partially ordered list:  [1, 2, 4, 7, 8, 10, 12, 13]\n"
     ]
    }
   ],
   "source": [
    "def bubble_sort(l):\n",
    "    print(\"Running Bubble Sort...\")\n",
    "    for i in reversed(range(len(l))):\n",
    "        for j in range(0, i):\n",
    "            if l[j] > l[j + 1]:\n",
    "                swap(l, j, j + 1)\n",
    "        print(\"Step\", len(l) - i, \"- Partially ordered list: \", l)\n",
    "\n",
    "bubble_sort(my_list)"
   ]
  },
  {
   "cell_type": "code",
   "execution_count": 25,
   "metadata": {},
   "outputs": [
    {
     "name": "stdout",
     "output_type": "stream",
     "text": [
      "Running Improved Bubble Sort Sort...\n",
      "Step 1 - Partially ordered list:  [8, 10, 4, 1, 12, 7, 2, 13]\n",
      "Step 2 - Partially ordered list:  [8, 4, 1, 10, 7, 2, 12, 13]\n",
      "Step 3 - Partially ordered list:  [4, 1, 8, 7, 2, 10, 12, 13]\n",
      "Step 4 - Partially ordered list:  [1, 4, 7, 2, 8, 10, 12, 13]\n",
      "Step 5 - Partially ordered list:  [1, 4, 2, 7, 8, 10, 12, 13]\n",
      "Step 6 - Partially ordered list:  [1, 2, 4, 7, 8, 10, 12, 13]\n"
     ]
    }
   ],
   "source": [
    "\"\"\"Improved bubble sort\"\"\"\n",
    "\n",
    "def bubble_sort_with_check(l):\n",
    "    print(\"Running Improved Bubble Sort Sort...\")\n",
    "    for i in reversed(range(len(l))):\n",
    "        swap_done = False\n",
    "        for j in range(0, i):\n",
    "            if l[j] > l[j + 1]:\n",
    "                swap(l, j, j + 1)\n",
    "                swap_done = True\n",
    "        if swap_done == False:\n",
    "            break\n",
    "        print(\"Step\", len(l) - i, \"- Partially ordered list: \", l)\n",
    "\n",
    "bubble_sort_with_check(my_list)"
   ]
  },
  {
   "cell_type": "markdown",
   "metadata": {},
   "source": [
    "merge sort ::"
   ]
  },
  {
   "cell_type": "code",
   "execution_count": 28,
   "metadata": {},
   "outputs": [
    {
     "name": "stdout",
     "output_type": "stream",
     "text": [
      "Running Merge Sort...\n",
      "Partially ordered list between 0 and 1 :[8, 10, 13, 4, 1, 12, 7, 2]\n",
      "Partially ordered list between 2 and 3 :[8, 10, 4, 13, 1, 12, 7, 2]\n",
      "Partially ordered list between 0 and 3 :[4, 8, 10, 13, 1, 12, 7, 2]\n",
      "Partially ordered list between 4 and 5 :[4, 8, 10, 13, 1, 12, 7, 2]\n",
      "Partially ordered list between 6 and 7 :[4, 8, 10, 13, 1, 12, 2, 7]\n",
      "Partially ordered list between 4 and 7 :[4, 8, 10, 13, 1, 2, 7, 12]\n",
      "Partially ordered list between 0 and 7 :[1, 2, 4, 7, 8, 10, 12, 13]\n"
     ]
    }
   ],
   "source": [
    "def merge_lists(l, start, middle, high):\n",
    "    print(\"Partially ordered list between\", start, \"and\", high, \":\", end='')\n",
    "\n",
    "    start2 = middle + 1\n",
    "\n",
    "    while start < start2 <= high:\n",
    "\n",
    "        if l[start] <= l[start2]:\n",
    "            start += 1\n",
    "        else:\n",
    "            value = l[start2]\n",
    "            index = start2\n",
    "\n",
    "            # Shift all the elements\n",
    "            while index != start:\n",
    "                l[index] = l[index - 1]\n",
    "                index -= 1\n",
    "\n",
    "            l[start] = value\n",
    "\n",
    "            # Update indexes\n",
    "            start += 1\n",
    "            start2 += 1\n",
    "\n",
    "    print(l)\n",
    "\n",
    "\n",
    "def recursive_merge_sort(l, low, high):\n",
    "    if low < high:\n",
    "        middle = (low + high) // 2\n",
    "\n",
    "        recursive_merge_sort(l, low, middle)\n",
    "        recursive_merge_sort(l, middle + 1, high)\n",
    "        merge_lists(l, low, middle, high)\n",
    "\n",
    "\n",
    "def merge_sort(l):\n",
    "    print(\"Running Merge Sort...\")\n",
    "    recursive_merge_sort(l, 0, len(l) - 1)\n",
    "\n",
    "\n",
    "\n",
    "merge_sort(my_list)"
   ]
  },
  {
   "cell_type": "markdown",
   "metadata": {},
   "source": [
    "quick sort ::"
   ]
  },
  {
   "cell_type": "code",
   "execution_count": 30,
   "metadata": {},
   "outputs": [
    {
     "name": "stdout",
     "output_type": "stream",
     "text": [
      "Running Quick Sort...\n",
      "Partially ordered list:  [1, 2, 13, 4, 10, 12, 7, 8]\n",
      "Partially ordered list:  [1, 2, 4, 7, 8, 12, 13, 10]\n",
      "Partially ordered list:  [1, 2, 4, 7, 8, 12, 13, 10]\n",
      "Partially ordered list:  [1, 2, 4, 7, 8, 10, 13, 12]\n",
      "Partially ordered list:  [1, 2, 4, 7, 8, 10, 12, 13]\n"
     ]
    }
   ],
   "source": [
    "def partition(l, low, high):\n",
    "    pivot = l[high]\n",
    "    p = low\n",
    "\n",
    "    for j in range(low, high):\n",
    "        if l[j] <= pivot:\n",
    "            l[p], l[j] = l[j], l[p]\n",
    "            p = p + 1\n",
    "\n",
    "    l[p], l[high] = l[high], l[p]\n",
    "    print(\"Partially ordered list: \", l)\n",
    "    return p\n",
    "\n",
    "\n",
    "def recursive_quick_sort(l, low, high):\n",
    "    pi = partition(l, low, high)\n",
    "    if low < pi - 1:\n",
    "        recursive_quick_sort(l, low, pi - 1)\n",
    "    if pi + 1 < high:\n",
    "        recursive_quick_sort(l, pi + 1, high)\n",
    "\n",
    "\n",
    "def quick_sort(l):\n",
    "    print(\"Running Quick Sort...\")\n",
    "    recursive_quick_sort(l, 0, len(l) - 1)\n",
    "\n",
    "quick_sort(my_list)"
   ]
  },
  {
   "cell_type": "markdown",
   "metadata": {},
   "source": [
    "\"\"insertion sort\"\""
   ]
  },
  {
   "cell_type": "code",
   "execution_count": 3,
   "metadata": {},
   "outputs": [
    {
     "name": "stdout",
     "output_type": "stream",
     "text": [
      "[1, 2, 10, 92]\n"
     ]
    }
   ],
   "source": [
    "def insertion_sort(l):\n",
    "    for i in range(1, len(l)):\n",
    "        value = l[i]\n",
    "        j = i-1\n",
    "        while j>= 0 and value < l[j]:\n",
    "            l[j+1] = l[j]\n",
    "            j = j-1\n",
    "        l[j+1] = value\n",
    "\n",
    "l = [10,1,2,92]\n",
    "\n",
    "insertion_sort(l)\n",
    "print(l)"
   ]
  },
  {
   "cell_type": "code",
   "execution_count": 14,
   "metadata": {},
   "outputs": [
    {
     "name": "stdout",
     "output_type": "stream",
     "text": [
      "[1, 2, 3, 20, 30]\n"
     ]
    }
   ],
   "source": [
    "def selection_sort11(l):  \n",
    "    for i in range(len(l)):\n",
    "        min_index = i\n",
    "\n",
    "        for j in range(i+1, len(l)):\n",
    "            if (l[min_index]>l[j]):\n",
    "                min_index = j\n",
    "        swap(l,i,min_index)\n",
    "        \n",
    "l = [20,1,2,30,3]\n",
    "\n",
    "selection_sort11(l)\n",
    "\n",
    "print(l)\n",
    "        "
   ]
  },
  {
   "cell_type": "code",
   "execution_count": null,
   "metadata": {},
   "outputs": [],
   "source": [
    "def selection_sort(l):\n",
    "    print('running selection sort ....')\n",
    "    for i in range(len(l)):\n",
    "        min_index = i\n",
    "        for j in range(i+1, len(l)):\n",
    "            if l[min_index]>l[j]:\n",
    "                min_index = j\n",
    "        swap(l,i, min_index)\n",
    "        print(f'step{i+1} partially ordered list {l}')\n",
    "\n",
    "\n",
    "\n",
    "def selection_sort1(l):\n",
    "    for i in range(len(l)):\n",
    "        min_index = i\n",
    "        for j in range(i+1, len(l)):\n",
    "            if (l[min_index]>l[j]):\n",
    "                min_index = j\n",
    "        swap(l,i,min_index)\n",
    "\n",
    "l = []"
   ]
  },
  {
   "cell_type": "code",
   "execution_count": null,
   "metadata": {},
   "outputs": [],
   "source": [
    "def insertion_sort11(l):\n",
    "    "
   ]
  }
 ],
 "metadata": {
  "kernelspec": {
   "display_name": "Python 3",
   "language": "python",
   "name": "python3"
  },
  "language_info": {
   "codemirror_mode": {
    "name": "ipython",
    "version": 3
   },
   "file_extension": ".py",
   "mimetype": "text/x-python",
   "name": "python",
   "nbconvert_exporter": "python",
   "pygments_lexer": "ipython3",
   "version": "3.12.3"
  },
  "orig_nbformat": 4
 },
 "nbformat": 4,
 "nbformat_minor": 2
}
